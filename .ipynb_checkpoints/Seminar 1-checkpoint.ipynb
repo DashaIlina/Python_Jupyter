{
 "cells": [
  {
   "cell_type": "markdown",
   "id": "a09ca6ee",
   "metadata": {},
   "source": [
    "## Задача 1"
   ]
  },
  {
   "cell_type": "markdown",
   "id": "ec7563bf",
   "metadata": {},
   "source": [
    "### задача 1"
   ]
  },
  {
   "cell_type": "code",
   "execution_count": 1,
   "id": "054dc1ec",
   "metadata": {},
   "outputs": [],
   "source": [
    "def MyAddDict(a: dict, b: dict)->dict:\n",
    "    return a | b"
   ]
  },
  {
   "cell_type": "code",
   "execution_count": 5,
   "id": "f3514ae1",
   "metadata": {},
   "outputs": [],
   "source": [
    "dict1 = {'one':1, 'two':2,'tree':3}\n",
    "dict2 = {'four':4, 'five':5,'six':6}"
   ]
  },
  {
   "cell_type": "code",
   "execution_count": 6,
   "id": "0268f1f9",
   "metadata": {},
   "outputs": [
    {
     "data": {
      "text/plain": [
       "{'one': 1, 'two': 2, 'tree': 3, 'four': 4, 'five': 5, 'six': 6}"
      ]
     },
     "execution_count": 6,
     "metadata": {},
     "output_type": "execute_result"
    }
   ],
   "source": [
    "MyAddDict(dict1,dict2)"
   ]
  },
  {
   "cell_type": "code",
   "execution_count": 7,
   "id": "20c768a0",
   "metadata": {},
   "outputs": [],
   "source": [
    "dict1.update(dict2)"
   ]
  },
  {
   "cell_type": "code",
   "execution_count": 8,
   "id": "6ba85f10",
   "metadata": {},
   "outputs": [
    {
     "data": {
      "text/plain": [
       "{'one': 1, 'two': 2, 'tree': 3, 'four': 4, 'five': 5, 'six': 6}"
      ]
     },
     "execution_count": 8,
     "metadata": {},
     "output_type": "execute_result"
    }
   ],
   "source": [
    "dict1"
   ]
  },
  {
   "cell_type": "code",
   "execution_count": 10,
   "id": "d6f890fa",
   "metadata": {},
   "outputs": [],
   "source": [
    "def MyUpdateDict(a: dict, b: dict)->dict:\n",
    "    a.update(b)\n",
    "    return a"
   ]
  },
  {
   "cell_type": "code",
   "execution_count": 11,
   "id": "d815a902",
   "metadata": {},
   "outputs": [
    {
     "data": {
      "text/plain": [
       "{'one': 1, 'two': 2, 'tree': 3, 'four': 4, 'five': 5, 'six': 6}"
      ]
     },
     "execution_count": 11,
     "metadata": {},
     "output_type": "execute_result"
    }
   ],
   "source": [
    "MyUpdateDict(dict1, dict2)"
   ]
  },
  {
   "cell_type": "markdown",
   "id": "f8b79670",
   "metadata": {},
   "source": [
    "## Задача 2"
   ]
  },
  {
   "cell_type": "markdown",
   "id": "32e5b220",
   "metadata": {},
   "source": [
    "### 2.1"
   ]
  },
  {
   "cell_type": "code",
   "execution_count": 12,
   "id": "c976013d",
   "metadata": {},
   "outputs": [],
   "source": [
    "key = ['one', 'two', 'three']\n",
    "value = [1, 2, 3]"
   ]
  },
  {
   "cell_type": "code",
   "execution_count": 14,
   "id": "712f029f",
   "metadata": {},
   "outputs": [
    {
     "data": {
      "text/plain": [
       "{'one': 1, 'two': 2, 'three': 3}"
      ]
     },
     "execution_count": 14,
     "metadata": {},
     "output_type": "execute_result"
    }
   ],
   "source": [
    "new_dict = {}\n",
    "for i in range(len(key)):\n",
    "    new_dict.update({key[i]:value[i]})\n",
    "new_dict"
   ]
  },
  {
   "cell_type": "code",
   "execution_count": 15,
   "id": "738dc590",
   "metadata": {},
   "outputs": [],
   "source": [
    "def f1(l1: list, l2: list) ->dict:\n",
    "    return dict(zip(l1,l2))"
   ]
  },
  {
   "cell_type": "code",
   "execution_count": 16,
   "id": "d21d5490",
   "metadata": {},
   "outputs": [
    {
     "data": {
      "text/plain": [
       "{'one': 1, 'two': 2, 'three': 3}"
      ]
     },
     "execution_count": 16,
     "metadata": {},
     "output_type": "execute_result"
    }
   ],
   "source": [
    "f1(key,value)"
   ]
  },
  {
   "cell_type": "markdown",
   "id": "d397d63e",
   "metadata": {},
   "source": [
    "### 2.2"
   ]
  },
  {
   "cell_type": "code",
   "execution_count": 18,
   "id": "38e9d313",
   "metadata": {},
   "outputs": [
    {
     "data": {
      "text/plain": [
       "{'one': 1, 'two': 2, 'three': 3}"
      ]
     },
     "execution_count": 18,
     "metadata": {},
     "output_type": "execute_result"
    }
   ],
   "source": [
    "new_dict = {key[i]:value[i] for i in range (len(key))}\n",
    "new_dict"
   ]
  },
  {
   "cell_type": "code",
   "execution_count": 19,
   "id": "f16da11c",
   "metadata": {},
   "outputs": [
    {
     "data": {
      "text/plain": [
       "{'one': 1, 'two': 2, 'three': 3}"
      ]
     },
     "execution_count": 19,
     "metadata": {},
     "output_type": "execute_result"
    }
   ],
   "source": [
    "new_dict = {key: value for key, value in zip(key, value)}\n",
    "new_dict"
   ]
  },
  {
   "cell_type": "markdown",
   "id": "c5fabe12",
   "metadata": {},
   "source": [
    "## Задание 3"
   ]
  },
  {
   "cell_type": "markdown",
   "id": "28dd0dbf",
   "metadata": {},
   "source": [
    "## 3.1"
   ]
  },
  {
   "cell_type": "code",
   "execution_count": 20,
   "id": "c410ff7c",
   "metadata": {},
   "outputs": [],
   "source": [
    "client_dict={\"name\":\"Jone\",\n",
    "            \"age\":25,\n",
    "            \"salary\": 5000,\n",
    "            \"city\": \"Moscow\"}"
   ]
  },
  {
   "cell_type": "code",
   "execution_count": 26,
   "id": "5217449c",
   "metadata": {},
   "outputs": [],
   "source": [
    "def get_keys(d:dict, keys: list) -> dict:\n",
    "   return {key:value for (key, value) in d.items() if key in keys}"
   ]
  },
  {
   "cell_type": "code",
   "execution_count": 27,
   "id": "e039b379",
   "metadata": {},
   "outputs": [
    {
     "data": {
      "text/plain": [
       "{'salary': 5000, 'city': 'Moscow'}"
      ]
     },
     "execution_count": 27,
     "metadata": {},
     "output_type": "execute_result"
    }
   ],
   "source": [
    "get_keys(client_dict, [\"salary\", \"city\"])"
   ]
  },
  {
   "cell_type": "code",
   "execution_count": 30,
   "id": "620ea1fb",
   "metadata": {},
   "outputs": [],
   "source": [
    "def get_keys2(d:dict, keys: list) -> dict:\n",
    "    new_dict ={}\n",
    "    for key in keys:\n",
    "        new_dict.update({key: d[key]})\n",
    "    return new_dict"
   ]
  },
  {
   "cell_type": "code",
   "execution_count": 31,
   "id": "1ac8af22",
   "metadata": {},
   "outputs": [
    {
     "data": {
      "text/plain": [
       "{'salary': 5000, 'city': 'Moscow'}"
      ]
     },
     "execution_count": 31,
     "metadata": {},
     "output_type": "execute_result"
    }
   ],
   "source": [
    "get_keys2(client_dict, [\"salary\", \"city\"])"
   ]
  },
  {
   "cell_type": "markdown",
   "id": "fbe586c0",
   "metadata": {},
   "source": [
    "## Задание 4"
   ]
  },
  {
   "cell_type": "code",
   "execution_count": 35,
   "id": "504233cc",
   "metadata": {},
   "outputs": [
    {
     "data": {
      "text/plain": [
       "[79, 32, 94, 45, 88]"
      ]
     },
     "execution_count": 35,
     "metadata": {},
     "output_type": "execute_result"
    }
   ],
   "source": [
    "from random import randint, seed\n",
    "seed(5)\n",
    "rand_nums = [randint(0, 100) for i in range(5)]\n",
    "rand_nums"
   ]
  },
  {
   "cell_type": "markdown",
   "id": "8b5280e4",
   "metadata": {},
   "source": [
    "## Задание 6"
   ]
  },
  {
   "cell_type": "code",
   "execution_count": 36,
   "id": "edf72988",
   "metadata": {},
   "outputs": [],
   "source": [
    "def spend_client(*args) -> dict:\n",
    "        return {'sum':sum(args), 'mean':sum(args)/len(args)}"
   ]
  },
  {
   "cell_type": "code",
   "execution_count": 37,
   "id": "79862932",
   "metadata": {},
   "outputs": [],
   "source": [
    "from statistics import mean\n",
    "\n",
    "def spend_client(*args) -> dict:\n",
    "        return {'sum':sum(args), 'mean':mean(args)}"
   ]
  },
  {
   "cell_type": "code",
   "execution_count": 38,
   "id": "984ea73a",
   "metadata": {},
   "outputs": [
    {
     "data": {
      "text/plain": [
       "{'sum': 168, 'mean': 56}"
      ]
     },
     "execution_count": 38,
     "metadata": {},
     "output_type": "execute_result"
    }
   ],
   "source": [
    "spend_client(34,56,78)"
   ]
  }
 ],
 "metadata": {
  "kernelspec": {
   "display_name": "Python 3 (ipykernel)",
   "language": "python",
   "name": "python3"
  },
  "language_info": {
   "codemirror_mode": {
    "name": "ipython",
    "version": 3
   },
   "file_extension": ".py",
   "mimetype": "text/x-python",
   "name": "python",
   "nbconvert_exporter": "python",
   "pygments_lexer": "ipython3",
   "version": "3.9.12"
  }
 },
 "nbformat": 4,
 "nbformat_minor": 5
}
